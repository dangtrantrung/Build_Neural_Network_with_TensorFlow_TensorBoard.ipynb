{
  "nbformat": 4,
  "nbformat_minor": 0,
  "metadata": {
    "colab": {
      "provenance": [],
      "gpuType": "T4",
      "authorship_tag": "ABX9TyMl1ZSGdCbVyvTw0nUhLpTq",
      "include_colab_link": true
    },
    "kernelspec": {
      "name": "python3",
      "display_name": "Python 3"
    },
    "language_info": {
      "name": "python"
    },
    "accelerator": "GPU"
  },
  "cells": [
    {
      "cell_type": "markdown",
      "metadata": {
        "id": "view-in-github",
        "colab_type": "text"
      },
      "source": [
        "<a href=\"https://colab.research.google.com/github/dangtrantrung/Build_Neural_Network_with_TensorFlow_TensorBoard.ipynb/blob/master/Build_Neural_Network_with_TensorFlow_TensorBoard.ipynb\" target=\"_parent\"><img src=\"https://colab.research.google.com/assets/colab-badge.svg\" alt=\"Open In Colab\"/></a>"
      ]
    },
    {
      "cell_type": "code",
      "execution_count": 2,
      "metadata": {
        "id": "M_kFJ8FkQW27",
        "colab": {
          "base_uri": "https://localhost:8080/"
        },
        "outputId": "336e5ab1-4634-4df1-8ce3-767410253680"
      },
      "outputs": [
        {
          "output_type": "stream",
          "name": "stdout",
          "text": [
            "2.15.0\n"
          ]
        }
      ],
      "source": [
        "import tensorflow as tf\n",
        "print(tf.__version__)"
      ]
    },
    {
      "cell_type": "code",
      "source": [
        "# Operations in Computational Graph\n",
        "import numpy as np\n",
        "x_vals=np.array([1.,3.,5.,7.,9.])\n",
        "x_data=tf.Variable(x_vals,dtype=tf.float32)\n",
        "m_const=tf.constant(3.)\n",
        "operation=tf.multiply(x_data,m_const)\n",
        "for result in operation:\n",
        "  print(result.numpy())\n"
      ],
      "metadata": {
        "colab": {
          "base_uri": "https://localhost:8080/"
        },
        "id": "b6ROGcX9RdDL",
        "outputId": "a2ee988d-b3d6-4d79-db7a-08227540910d"
      },
      "execution_count": 4,
      "outputs": [
        {
          "output_type": "stream",
          "name": "stdout",
          "text": [
            "3.0\n",
            "9.0\n",
            "15.0\n",
            "21.0\n",
            "27.0\n"
          ]
        }
      ]
    },
    {
      "cell_type": "code",
      "source": [
        "operation"
      ],
      "metadata": {
        "colab": {
          "base_uri": "https://localhost:8080/"
        },
        "id": "JNuxwtFFSbUw",
        "outputId": "eb491a3a-6557-49c7-9d08-bd7c0922dc43"
      },
      "execution_count": 5,
      "outputs": [
        {
          "output_type": "execute_result",
          "data": {
            "text/plain": [
              "<tf.Tensor: shape=(5,), dtype=float32, numpy=array([ 3.,  9., 15., 21., 27.], dtype=float32)>"
            ]
          },
          "metadata": {},
          "execution_count": 5
        }
      ]
    },
    {
      "cell_type": "code",
      "source": [
        "# Combine operations to layers Graph\n",
        "import numpy as np\n",
        "my_array=np.array([[1.,3.,5.,7.,9.],[-2.,0.,2.,4.,6.],[-6.,-3.,0,3.,6.]])\n",
        "x_vals=np.array([my_array,my_array+1])\n",
        "x_data=tf.Variable(x_vals,dtype=tf.float32)\n",
        "x_data"
      ],
      "metadata": {
        "colab": {
          "base_uri": "https://localhost:8080/"
        },
        "id": "JD_50k2fVMuo",
        "outputId": "4461dca0-5368-408d-faa9-3472f306c6c5"
      },
      "execution_count": 9,
      "outputs": [
        {
          "output_type": "execute_result",
          "data": {
            "text/plain": [
              "<tf.Variable 'Variable:0' shape=(2, 3, 5) dtype=float32, numpy=\n",
              "array([[[ 1.,  3.,  5.,  7.,  9.],\n",
              "        [-2.,  0.,  2.,  4.,  6.],\n",
              "        [-6., -3.,  0.,  3.,  6.]],\n",
              "\n",
              "       [[ 2.,  4.,  6.,  8., 10.],\n",
              "        [-1.,  1.,  3.,  5.,  7.],\n",
              "        [-5., -2.,  1.,  4.,  7.]]], dtype=float32)>"
            ]
          },
          "metadata": {},
          "execution_count": 9
        }
      ]
    },
    {
      "cell_type": "code",
      "source": [
        "m1=tf.constant([[1.],[0,],[-1.],[2.],[4.]])\n",
        "m2=tf.constant([2.])\n",
        "a1=tf.constant([10.])"
      ],
      "metadata": {
        "id": "iafRLsW3WWM2"
      },
      "execution_count": 10,
      "outputs": []
    },
    {
      "cell_type": "code",
      "source": [],
      "metadata": {
        "id": "hTwfpNfVX2X9"
      },
      "execution_count": null,
      "outputs": []
    }
  ]
}