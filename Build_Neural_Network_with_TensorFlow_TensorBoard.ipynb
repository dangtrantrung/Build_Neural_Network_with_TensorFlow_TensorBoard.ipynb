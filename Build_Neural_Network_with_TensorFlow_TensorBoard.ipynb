{
  "nbformat": 4,
  "nbformat_minor": 0,
  "metadata": {
    "colab": {
      "provenance": [],
      "gpuType": "T4",
      "authorship_tag": "ABX9TyMCHNuq1lpRNiESkr0psyiJ",
      "include_colab_link": true
    },
    "kernelspec": {
      "name": "python3",
      "display_name": "Python 3"
    },
    "language_info": {
      "name": "python"
    },
    "accelerator": "GPU"
  },
  "cells": [
    {
      "cell_type": "markdown",
      "metadata": {
        "id": "view-in-github",
        "colab_type": "text"
      },
      "source": [
        "<a href=\"https://colab.research.google.com/github/dangtrantrung/Build_Neural_Network_with_TensorFlow_TensorBoard.ipynb/blob/master/Build_Neural_Network_with_TensorFlow_TensorBoard.ipynb\" target=\"_parent\"><img src=\"https://colab.research.google.com/assets/colab-badge.svg\" alt=\"Open In Colab\"/></a>"
      ]
    },
    {
      "cell_type": "code",
      "execution_count": 2,
      "metadata": {
        "id": "M_kFJ8FkQW27",
        "colab": {
          "base_uri": "https://localhost:8080/"
        },
        "outputId": "336e5ab1-4634-4df1-8ce3-767410253680"
      },
      "outputs": [
        {
          "output_type": "stream",
          "name": "stdout",
          "text": [
            "2.15.0\n"
          ]
        }
      ],
      "source": [
        "import tensorflow as tf\n",
        "print(tf.__version__)"
      ]
    },
    {
      "cell_type": "code",
      "source": [
        "# Operations in Computational Graph\n",
        "import numpy as np\n",
        "x_vals=np.array([1.,3.,5.,7.,9.])\n",
        "x_data=tf.Variable(x_vals,dtype=tf.float32)\n",
        "m_const=tf.constant(3.)\n",
        "operation=tf.multiply(x_data,m_const)\n",
        "for result in operation:\n",
        "  print(result.numpy())\n"
      ],
      "metadata": {
        "colab": {
          "base_uri": "https://localhost:8080/"
        },
        "id": "b6ROGcX9RdDL",
        "outputId": "a2ee988d-b3d6-4d79-db7a-08227540910d"
      },
      "execution_count": 4,
      "outputs": [
        {
          "output_type": "stream",
          "name": "stdout",
          "text": [
            "3.0\n",
            "9.0\n",
            "15.0\n",
            "21.0\n",
            "27.0\n"
          ]
        }
      ]
    },
    {
      "cell_type": "code",
      "source": [],
      "metadata": {
        "id": "JNuxwtFFSbUw"
      },
      "execution_count": null,
      "outputs": []
    }
  ]
}