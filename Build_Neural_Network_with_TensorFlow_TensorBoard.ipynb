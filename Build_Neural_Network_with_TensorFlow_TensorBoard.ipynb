{
  "nbformat": 4,
  "nbformat_minor": 0,
  "metadata": {
    "colab": {
      "provenance": [],
      "gpuType": "T4",
      "authorship_tag": "ABX9TyP9+204QC8AkYedreuqLMii",
      "include_colab_link": true
    },
    "kernelspec": {
      "name": "python3",
      "display_name": "Python 3"
    },
    "language_info": {
      "name": "python"
    },
    "accelerator": "GPU"
  },
  "cells": [
    {
      "cell_type": "markdown",
      "metadata": {
        "id": "view-in-github",
        "colab_type": "text"
      },
      "source": [
        "<a href=\"https://colab.research.google.com/github/dangtrantrung/Build_Neural_Network_with_TensorFlow_TensorBoard.ipynb/blob/master/Build_Neural_Network_with_TensorFlow_TensorBoard.ipynb\" target=\"_parent\"><img src=\"https://colab.research.google.com/assets/colab-badge.svg\" alt=\"Open In Colab\"/></a>"
      ]
    },
    {
      "cell_type": "code",
      "execution_count": 5,
      "metadata": {
        "id": "M_kFJ8FkQW27",
        "colab": {
          "base_uri": "https://localhost:8080/"
        },
        "outputId": "03ea7564-a70b-4d93-ebea-438a0404d6b1"
      },
      "outputs": [
        {
          "output_type": "stream",
          "name": "stdout",
          "text": [
            "2.15.0\n"
          ]
        }
      ],
      "source": [
        "import tensorflow as tf\n",
        "print(tf.__version__)"
      ]
    },
    {
      "cell_type": "code",
      "source": [
        "# Operations in Computational Graph\n",
        "import numpy as np\n",
        "x_vals=np.array([1.,3.,5.,7.,9.])\n",
        "x_data=tf.Variable(x_vals,dtype=tf.float32)\n",
        "m_const=tf.constant(3.)\n",
        "operation=tf.multiply(x_data,m_const)\n",
        "for result in operation:\n",
        "  print(result.numpy())\n"
      ],
      "metadata": {
        "colab": {
          "base_uri": "https://localhost:8080/"
        },
        "id": "b6ROGcX9RdDL",
        "outputId": "6d162527-8907-4fcc-dee1-99791296f9e6"
      },
      "execution_count": 6,
      "outputs": [
        {
          "output_type": "stream",
          "name": "stdout",
          "text": [
            "3.0\n",
            "9.0\n",
            "15.0\n",
            "21.0\n",
            "27.0\n"
          ]
        }
      ]
    },
    {
      "cell_type": "code",
      "source": [
        "operation"
      ],
      "metadata": {
        "colab": {
          "base_uri": "https://localhost:8080/"
        },
        "id": "JNuxwtFFSbUw",
        "outputId": "22b92232-f899-472c-c34f-33d176728dcc"
      },
      "execution_count": 7,
      "outputs": [
        {
          "output_type": "execute_result",
          "data": {
            "text/plain": [
              "<tf.Tensor: shape=(5,), dtype=float32, numpy=array([ 3.,  9., 15., 21., 27.], dtype=float32)>"
            ]
          },
          "metadata": {},
          "execution_count": 7
        }
      ]
    },
    {
      "cell_type": "code",
      "source": [
        "# Combine operations to layers Graph\n",
        "import numpy as np\n",
        "my_array=np.array([[1.,3.,5.,7.,9.],[-2.,0.,2.,4.,6.],[-6.,-3.,0,3.,6.]])\n",
        "x_vals=np.array([my_array,my_array+1])\n",
        "x_data=tf.Variable(x_vals,dtype=tf.float32)\n",
        "x_data"
      ],
      "metadata": {
        "colab": {
          "base_uri": "https://localhost:8080/"
        },
        "id": "JD_50k2fVMuo",
        "outputId": "e51edfe1-7d8a-40b8-f3ee-85ef3483b72f"
      },
      "execution_count": 8,
      "outputs": [
        {
          "output_type": "execute_result",
          "data": {
            "text/plain": [
              "<tf.Variable 'Variable:0' shape=(2, 3, 5) dtype=float32, numpy=\n",
              "array([[[ 1.,  3.,  5.,  7.,  9.],\n",
              "        [-2.,  0.,  2.,  4.,  6.],\n",
              "        [-6., -3.,  0.,  3.,  6.]],\n",
              "\n",
              "       [[ 2.,  4.,  6.,  8., 10.],\n",
              "        [-1.,  1.,  3.,  5.,  7.],\n",
              "        [-5., -2.,  1.,  4.,  7.]]], dtype=float32)>"
            ]
          },
          "metadata": {},
          "execution_count": 8
        }
      ]
    },
    {
      "cell_type": "code",
      "source": [
        "m1=tf.constant([[1.],[0.,],[-1.],[2.],[4.]])\n",
        "m2=tf.constant([[2.]])\n",
        "a1=tf.constant([[10.]])"
      ],
      "metadata": {
        "id": "iafRLsW3WWM2"
      },
      "execution_count": 13,
      "outputs": []
    },
    {
      "cell_type": "code",
      "source": [
        "# Operation layer\n",
        "def prod1(a,b):\n",
        "  return tf.matmul(a,b)\n",
        "def prod2(a,b):\n",
        "  return tf.matmul(a,b)\n",
        "def add1(a,b):\n",
        "  return tf.add(a,b)"
      ],
      "metadata": {
        "id": "hTwfpNfVX2X9"
      },
      "execution_count": 14,
      "outputs": []
    },
    {
      "cell_type": "code",
      "source": [
        "result = add1(prod2(prod1(x_data,m1),m2),a1)\n",
        "print(result.numpy())"
      ],
      "metadata": {
        "colab": {
          "base_uri": "https://localhost:8080/"
        },
        "id": "_f-2eENumPBv",
        "outputId": "eb982d27-567b-4449-9001-a2de1c3fb7eb"
      },
      "execution_count": 15,
      "outputs": [
        {
          "output_type": "stream",
          "name": "stdout",
          "text": [
            "[[[102.]\n",
            "  [ 66.]\n",
            "  [ 58.]]\n",
            "\n",
            " [[114.]\n",
            "  [ 78.]\n",
            "  [ 70.]]]\n"
          ]
        }
      ]
    },
    {
      "cell_type": "code",
      "source": [
        "class Operations():\n",
        "  def __init__(self,a):\n",
        "    self.result=a\n",
        "  def apply(self,func,b):\n",
        "    self.result=func(self.result,b)\n",
        "    return self\n",
        "\n",
        "\n",
        "operation= (Operations(a=x_data)\n",
        "            .apply(prod1,b=m1)\n",
        "            .apply(prod2,b=m2)\n",
        "            .apply(add1,b=a1))\n",
        "\n",
        "print(operation.result.numpy())"
      ],
      "metadata": {
        "colab": {
          "base_uri": "https://localhost:8080/"
        },
        "id": "5acnRcRTnvnc",
        "outputId": "60e5cbe2-9bfb-4745-b3c6-cc12809f354d"
      },
      "execution_count": 17,
      "outputs": [
        {
          "output_type": "stream",
          "name": "stdout",
          "text": [
            "[[[102.]\n",
            "  [ 66.]\n",
            "  [ 58.]]\n",
            "\n",
            " [[114.]\n",
            "  [ 78.]\n",
            "  [ 70.]]]\n"
          ]
        }
      ]
    },
    {
      "cell_type": "code",
      "source": [
        "v=tf.Variable(initial_value=tf.random.normal(shape=(1,5)),shape=tf.TensorShape((None,5)))\n",
        "print(v)\n",
        "v.assign(tf.random.normal(shape=(10,5)))\n"
      ],
      "metadata": {
        "colab": {
          "base_uri": "https://localhost:8080/"
        },
        "id": "MRxzCA0UpB_3",
        "outputId": "c7f0d1f6-d3a5-45dc-bfb7-4cca6b3efcd5"
      },
      "execution_count": 20,
      "outputs": [
        {
          "output_type": "stream",
          "name": "stdout",
          "text": [
            "<tf.Variable 'Variable:0' shape=(None, 5) dtype=float32, numpy=\n",
            "array([[ 0.77985424,  0.4189272 ,  0.28743383, -0.28957883, -1.4866134 ]],\n",
            "      dtype=float32)>\n"
          ]
        },
        {
          "output_type": "execute_result",
          "data": {
            "text/plain": [
              "<tf.Variable 'UnreadVariable' shape=(None, 5) dtype=float32, numpy=\n",
              "array([[-9.1043794e-01, -6.4090574e-01, -1.4346770e-02,  7.2459394e-01,\n",
              "         6.4218283e-01],\n",
              "       [ 2.4551943e-01,  6.9101554e-01, -9.9568504e-01, -1.3748221e+00,\n",
              "        -8.0650026e-01],\n",
              "       [-5.0495321e-01, -6.8398291e-01, -8.1360959e-02,  3.5009468e-01,\n",
              "        -7.6194227e-01],\n",
              "       [ 5.1603782e-01, -1.0668690e+00, -8.4814680e-01, -9.0293336e-01,\n",
              "         5.8693539e-02],\n",
              "       [-1.1533327e+00, -1.0505022e+00,  2.2397106e+00,  1.0953990e+00,\n",
              "        -6.6672206e-01],\n",
              "       [-2.8739545e-01,  5.4638511e-01, -7.5871468e-01,  5.9092028e-05,\n",
              "        -1.2933551e+00],\n",
              "       [-7.7661163e-01, -2.4143827e-01, -3.8880882e-01, -7.5241536e-01,\n",
              "        -2.6071328e-01],\n",
              "       [-6.7213768e-01, -1.1239169e+00,  2.0238143e-01, -7.1488947e-02,\n",
              "        -5.9606659e-01],\n",
              "       [-1.1638843e+00,  2.3196025e+00,  5.8269161e-01, -2.6245821e-01,\n",
              "         4.9111804e-01],\n",
              "       [-5.5813754e-01,  3.7633993e-02,  1.7015485e+00, -1.3201263e+00,\n",
              "        -2.0247087e+00]], dtype=float32)>"
            ]
          },
          "metadata": {},
          "execution_count": 20
        }
      ]
    },
    {
      "cell_type": "code",
      "source": [
        "# Work with Many Layers\n",
        "batch_size=[1]\n",
        "x_shape=[4,4,1]\n",
        "x_data=tf.random.uniform(shape=batch_size+x_shape)\n",
        "x_data\n"
      ],
      "metadata": {
        "colab": {
          "base_uri": "https://localhost:8080/"
        },
        "id": "NIrEvOKipqeS",
        "outputId": "b6206f65-1067-4339-fb71-e8fa03aff5d3"
      },
      "execution_count": 22,
      "outputs": [
        {
          "output_type": "execute_result",
          "data": {
            "text/plain": [
              "<tf.Tensor: shape=(1, 4, 4, 1), dtype=float32, numpy=\n",
              "array([[[[0.73823225],\n",
              "         [0.43884516],\n",
              "         [0.7128775 ],\n",
              "         [0.0754472 ]],\n",
              "\n",
              "        [[0.7835065 ],\n",
              "         [0.8864335 ],\n",
              "         [0.8842263 ],\n",
              "         [0.9404273 ]],\n",
              "\n",
              "        [[0.05130053],\n",
              "         [0.25393367],\n",
              "         [0.620363  ],\n",
              "         [0.40637982]],\n",
              "\n",
              "        [[0.02085066],\n",
              "         [0.47699058],\n",
              "         [0.73302424],\n",
              "         [0.02248144]]]], dtype=float32)>"
            ]
          },
          "metadata": {},
          "execution_count": 22
        }
      ]
    },
    {
      "cell_type": "code",
      "source": [
        "def mov_avg_layer(x):\n",
        "  my_filter=tf.constant(0.25,shape=[2,2,1,1])\n",
        "  my_strides=[1,2,2,1]\n",
        "  layer=tf.nn.conv2d(x,my_filter,my_strides,padding=\"SAME\",name=\"Moving_Avg_Window\")\n",
        "  return layer\n",
        ""
      ],
      "metadata": {
        "id": "3jw9lLYWp9lY"
      },
      "execution_count": 24,
      "outputs": []
    },
    {
      "cell_type": "code",
      "source": [
        "def custom_layer(input_matrix):\n",
        "  input_matrix_squeezed=tf.squeeze(input_matrix)\n",
        "  A=tf.constant([[1.,2.],[-1.,3.]])\n",
        "  b=tf.constant(1.,shape=[2,2])\n",
        "  temp1=tf.matmul(A,input_matrix_squeezed)\n",
        "  temp=tf.add(temp1,b) # Ax+b\n",
        "  return(tf.sigmoid(temp))\n"
      ],
      "metadata": {
        "id": "qn8EsKjYq0pv"
      },
      "execution_count": 25,
      "outputs": []
    },
    {
      "cell_type": "code",
      "source": [
        "first_layer=mov_avg_layer(x_data)\n",
        "second_layer=custom_layer(first_layer)"
      ],
      "metadata": {
        "id": "WpZGEB3vsalX"
      },
      "execution_count": 29,
      "outputs": []
    },
    {
      "cell_type": "code",
      "source": [
        "print(second_layer)"
      ],
      "metadata": {
        "colab": {
          "base_uri": "https://localhost:8080/"
        },
        "id": "Z-8W1dCOsm_t",
        "outputId": "43bb8fd7-faa9-4be8-d299-de131d896a1a"
      },
      "execution_count": 28,
      "outputs": [
        {
          "output_type": "stream",
          "name": "stdout",
          "text": [
            "tf.Tensor(\n",
            "[[0.89218843 0.9271943 ]\n",
            " [0.70900416 0.84335977]], shape=(2, 2), dtype=float32)\n"
          ]
        }
      ]
    },
    {
      "cell_type": "code",
      "source": [
        "# Build LOSS function\n",
        "import matplotlib.pyplot as plt"
      ],
      "metadata": {
        "id": "ftd6v4wetIhs"
      },
      "execution_count": null,
      "outputs": []
    },
    {
      "cell_type": "code",
      "source": [
        "def l2(y_true,y_pred):\n",
        "  return tf.square(y_true-y_pred)\n",
        "def l1(y_true,y_pred):\n",
        "  return tf.abs(y_true-y_pred)"
      ],
      "metadata": {
        "id": "vJR7vyCZtXxQ"
      },
      "execution_count": null,
      "outputs": []
    }
  ]
}